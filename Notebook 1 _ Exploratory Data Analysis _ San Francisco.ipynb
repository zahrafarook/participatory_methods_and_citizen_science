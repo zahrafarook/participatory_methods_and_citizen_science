{
 "cells": [
  {
   "cell_type": "code",
   "execution_count": 1,
   "id": "428f27c6",
   "metadata": {},
   "outputs": [],
   "source": [
    "import pandas as pd\n",
    "import numpy as np\n",
    "import matplotlib.pyplot as plt\n",
    "import matplotlib as mpl\n",
    "import seaborn as sns\n",
    "import os\n",
    "from matplotlib_venn import venn2\n",
    "import calendar\n",
    "from collections import defaultdict"
   ]
  },
  {
   "cell_type": "code",
   "execution_count": 2,
   "id": "febc9223",
   "metadata": {},
   "outputs": [],
   "source": [
    "city_years = {\n",
    " 'Francisco_Bay':[2016,2017,2018,2019,2020,2021,2022,2023],\n",
    "}"
   ]
  },
  {
   "cell_type": "code",
   "execution_count": 3,
   "id": "a8e7a127",
   "metadata": {},
   "outputs": [
    {
     "name": "stdout",
     "output_type": "stream",
     "text": [
      "['cnc', '.DS_Store', 'San_Franciso', 'San_Francisco_Bay_2020.csv', 'San_Francisco_Bay_2021.csv', 'census_ethnicities', 'San_Francisco_Bay_2023.csv', 'San_Francisco_Bay_2022.csv', 'Los_Angeles_2017.csv', 'San_Francisco_Bay_2019.csv', 'San_Francisco_Bay_2018.csv', 'non_cnc', 'San_Francisco_Bay_2016.csv', 'northcarolina', 'San_Francisco_Bay_2017.csv', 'Los_Angeles', 'old data']\n"
     ]
    }
   ],
   "source": [
    "path = '/Users/zahrafarook/Desktop/DataAnalysis/data'\n",
    "dir_list = os.listdir(path)\n",
    "print(dir_list)"
   ]
  },
  {
   "cell_type": "code",
   "execution_count": 4,
   "id": "16efc430",
   "metadata": {},
   "outputs": [
    {
     "name": "stdout",
     "output_type": "stream",
     "text": [
      "Loading:  Francisco_Bay 2016\n",
      "Loading:  Francisco_Bay 2017\n",
      "Loading:  Francisco_Bay 2018\n",
      "Loading:  Francisco_Bay 2019\n",
      "Loading:  Francisco_Bay 2020\n",
      "Loading:  Francisco_Bay 2021\n",
      "Loading:  Francisco_Bay 2022\n",
      "Loading:  Francisco_Bay 2023\n"
     ]
    },
    {
     "data": {
      "text/html": [
       "<div>\n",
       "<style scoped>\n",
       "    .dataframe tbody tr th:only-of-type {\n",
       "        vertical-align: middle;\n",
       "    }\n",
       "\n",
       "    .dataframe tbody tr th {\n",
       "        vertical-align: top;\n",
       "    }\n",
       "\n",
       "    .dataframe thead th {\n",
       "        text-align: right;\n",
       "    }\n",
       "</style>\n",
       "<table border=\"1\" class=\"dataframe\">\n",
       "  <thead>\n",
       "    <tr style=\"text-align: right;\">\n",
       "      <th></th>\n",
       "      <th>id</th>\n",
       "      <th>observed_on_string</th>\n",
       "      <th>observed_on</th>\n",
       "      <th>time_observed_at</th>\n",
       "      <th>created_time_zone</th>\n",
       "      <th>created_at</th>\n",
       "      <th>updated_at</th>\n",
       "      <th>description</th>\n",
       "      <th>user_id</th>\n",
       "      <th>quality_grade</th>\n",
       "      <th>...</th>\n",
       "      <th>preferred_common_name</th>\n",
       "      <th>iconic_taxon_name</th>\n",
       "      <th>taxon_rank</th>\n",
       "      <th>taxon_parent_id</th>\n",
       "      <th>taxon_native</th>\n",
       "      <th>taxon_endemic</th>\n",
       "      <th>taxon_threatened</th>\n",
       "      <th>taxon_search_rank</th>\n",
       "      <th>taxon_observations</th>\n",
       "      <th>identifications</th>\n",
       "    </tr>\n",
       "  </thead>\n",
       "  <tbody>\n",
       "    <tr>\n",
       "      <th>0</th>\n",
       "      <td>20069</td>\n",
       "      <td>1:15 pm.</td>\n",
       "      <td>2016-07-14</td>\n",
       "      <td>2016-07-14T13:15:00-07:00</td>\n",
       "      <td>America/Los_Angeles</td>\n",
       "      <td>2011-06-03T14:51:45-07:00</td>\n",
       "      <td>2020-02-09T08:18:18-08:00</td>\n",
       "      <td>Seen in grass.  Individual had &gt;5 ticks from e...</td>\n",
       "      <td>1704</td>\n",
       "      <td>casual</td>\n",
       "      <td>...</td>\n",
       "      <td>Western Alligator Lizards</td>\n",
       "      <td>Reptilia</td>\n",
       "      <td>genus</td>\n",
       "      <td>797512.0</td>\n",
       "      <td>False</td>\n",
       "      <td>False</td>\n",
       "      <td>False</td>\n",
       "      <td>36300.0</td>\n",
       "      <td>36300.0</td>\n",
       "      <td>[{'user_id': 1704, 'category': 'leading', 'dis...</td>\n",
       "    </tr>\n",
       "    <tr>\n",
       "      <th>1</th>\n",
       "      <td>20070</td>\n",
       "      <td>1:00 pm.</td>\n",
       "      <td>2016-03-25</td>\n",
       "      <td>2016-03-25T13:00:00-07:00</td>\n",
       "      <td>America/Los_Angeles</td>\n",
       "      <td>2011-06-03T14:53:13-07:00</td>\n",
       "      <td>2020-02-09T08:18:11-08:00</td>\n",
       "      <td>Female mallard duck with multiple ducklings.</td>\n",
       "      <td>1704</td>\n",
       "      <td>casual</td>\n",
       "      <td>...</td>\n",
       "      <td>Mallard</td>\n",
       "      <td>Aves</td>\n",
       "      <td>species</td>\n",
       "      <td>6922.0</td>\n",
       "      <td>True</td>\n",
       "      <td>False</td>\n",
       "      <td>False</td>\n",
       "      <td>462859.0</td>\n",
       "      <td>462859.0</td>\n",
       "      <td>[{'user_id': 642, 'category': 'leading', 'disa...</td>\n",
       "    </tr>\n",
       "    <tr>\n",
       "      <th>2</th>\n",
       "      <td>68373</td>\n",
       "      <td>6:30</td>\n",
       "      <td>2016-02-12</td>\n",
       "      <td>2016-02-12T06:30:00-08:00</td>\n",
       "      <td>America/Los_Angeles</td>\n",
       "      <td>2012-04-20T20:36:48-07:00</td>\n",
       "      <td>2020-08-01T14:11:59-07:00</td>\n",
       "      <td>This flower has blue/purple petals that are di...</td>\n",
       "      <td>5844</td>\n",
       "      <td>casual</td>\n",
       "      <td>...</td>\n",
       "      <td>periwinkles</td>\n",
       "      <td>Plantae</td>\n",
       "      <td>genus</td>\n",
       "      <td>632394.0</td>\n",
       "      <td>False</td>\n",
       "      <td>False</td>\n",
       "      <td>False</td>\n",
       "      <td>98028.0</td>\n",
       "      <td>98028.0</td>\n",
       "      <td>[{'user_id': 5844, 'category': 'leading', 'dis...</td>\n",
       "    </tr>\n",
       "    <tr>\n",
       "      <th>3</th>\n",
       "      <td>158736</td>\n",
       "      <td>2:19</td>\n",
       "      <td>2016-10-14</td>\n",
       "      <td>2016-10-14T14:19:00-07:00</td>\n",
       "      <td>America/Los_Angeles</td>\n",
       "      <td>2012-12-06T20:23:52-08:00</td>\n",
       "      <td>2016-10-14T01:56:44-07:00</td>\n",
       "      <td>We saw our first devil's coach-horse beetle as...</td>\n",
       "      <td>11548</td>\n",
       "      <td>casual</td>\n",
       "      <td>...</td>\n",
       "      <td>Devil's Coach Horse Beetle</td>\n",
       "      <td>Insecta</td>\n",
       "      <td>species</td>\n",
       "      <td>1270925.0</td>\n",
       "      <td>False</td>\n",
       "      <td>False</td>\n",
       "      <td>False</td>\n",
       "      <td>10365.0</td>\n",
       "      <td>10365.0</td>\n",
       "      <td>[{'user_id': 11548, 'category': 'leading', 'di...</td>\n",
       "    </tr>\n",
       "    <tr>\n",
       "      <th>4</th>\n",
       "      <td>538018</td>\n",
       "      <td>2016-04-10 2:20:00 PM PDT</td>\n",
       "      <td>2016-04-10</td>\n",
       "      <td>2016-04-10T14:20:00-07:00</td>\n",
       "      <td>America/Los_Angeles</td>\n",
       "      <td>2014-02-20T15:40:40-08:00</td>\n",
       "      <td>2016-04-10T21:06:27-07:00</td>\n",
       "      <td>NaN</td>\n",
       "      <td>16603</td>\n",
       "      <td>research</td>\n",
       "      <td>...</td>\n",
       "      <td>Western Fence Lizard</td>\n",
       "      <td>Reptilia</td>\n",
       "      <td>species</td>\n",
       "      <td>36141.0</td>\n",
       "      <td>True</td>\n",
       "      <td>False</td>\n",
       "      <td>False</td>\n",
       "      <td>119535.0</td>\n",
       "      <td>119535.0</td>\n",
       "      <td>[{'user_id': 16603, 'category': 'improving', '...</td>\n",
       "    </tr>\n",
       "  </tbody>\n",
       "</table>\n",
       "<p>5 rows × 38 columns</p>\n",
       "</div>"
      ],
      "text/plain": [
       "       id         observed_on_string observed_on           time_observed_at  \\\n",
       "0   20069                1:15 pm.     2016-07-14  2016-07-14T13:15:00-07:00   \n",
       "1   20070                1:00 pm.     2016-03-25  2016-03-25T13:00:00-07:00   \n",
       "2   68373                       6:30  2016-02-12  2016-02-12T06:30:00-08:00   \n",
       "3  158736                       2:19  2016-10-14  2016-10-14T14:19:00-07:00   \n",
       "4  538018  2016-04-10 2:20:00 PM PDT  2016-04-10  2016-04-10T14:20:00-07:00   \n",
       "\n",
       "     created_time_zone                 created_at                 updated_at  \\\n",
       "0  America/Los_Angeles  2011-06-03T14:51:45-07:00  2020-02-09T08:18:18-08:00   \n",
       "1  America/Los_Angeles  2011-06-03T14:53:13-07:00  2020-02-09T08:18:11-08:00   \n",
       "2  America/Los_Angeles  2012-04-20T20:36:48-07:00  2020-08-01T14:11:59-07:00   \n",
       "3  America/Los_Angeles  2012-12-06T20:23:52-08:00  2016-10-14T01:56:44-07:00   \n",
       "4  America/Los_Angeles  2014-02-20T15:40:40-08:00  2016-04-10T21:06:27-07:00   \n",
       "\n",
       "                                         description  user_id quality_grade  \\\n",
       "0  Seen in grass.  Individual had >5 ticks from e...     1704        casual   \n",
       "1     Female mallard duck with multiple ducklings.       1704        casual   \n",
       "2  This flower has blue/purple petals that are di...     5844        casual   \n",
       "3  We saw our first devil's coach-horse beetle as...    11548        casual   \n",
       "4                                                NaN    16603      research   \n",
       "\n",
       "   ...       preferred_common_name  iconic_taxon_name  taxon_rank  \\\n",
       "0  ...   Western Alligator Lizards           Reptilia       genus   \n",
       "1  ...                     Mallard               Aves     species   \n",
       "2  ...                 periwinkles            Plantae       genus   \n",
       "3  ...  Devil's Coach Horse Beetle            Insecta     species   \n",
       "4  ...        Western Fence Lizard           Reptilia     species   \n",
       "\n",
       "   taxon_parent_id  taxon_native  taxon_endemic  taxon_threatened  \\\n",
       "0         797512.0         False          False             False   \n",
       "1           6922.0          True          False             False   \n",
       "2         632394.0         False          False             False   \n",
       "3        1270925.0         False          False             False   \n",
       "4          36141.0          True          False             False   \n",
       "\n",
       "  taxon_search_rank taxon_observations  \\\n",
       "0           36300.0            36300.0   \n",
       "1          462859.0           462859.0   \n",
       "2           98028.0            98028.0   \n",
       "3           10365.0            10365.0   \n",
       "4          119535.0           119535.0   \n",
       "\n",
       "                                     identifications  \n",
       "0  [{'user_id': 1704, 'category': 'leading', 'dis...  \n",
       "1  [{'user_id': 642, 'category': 'leading', 'disa...  \n",
       "2  [{'user_id': 5844, 'category': 'leading', 'dis...  \n",
       "3  [{'user_id': 11548, 'category': 'leading', 'di...  \n",
       "4  [{'user_id': 16603, 'category': 'improving', '...  \n",
       "\n",
       "[5 rows x 38 columns]"
      ]
     },
     "execution_count": 4,
     "metadata": {},
     "output_type": "execute_result"
    }
   ],
   "source": [
    "dfs = defaultdict(dict)\n",
    "dfall = []\n",
    "\n",
    "\n",
    "for city, years in city_years.items():\n",
    "    for year in years:\n",
    "        print(\"Loading: \", city, year)\n",
    "\n",
    "        df = pd.read_csv(\"/Users/zahrafarook/Desktop/DataAnalysis/data/San_{}_{}.csv\".format(city, year))\n",
    "    \n",
    "        dfs[city][year] = df\n",
    "        dfall.append(df)\n",
    "\n",
    "dfall = pd.concat(dfall)\n",
    "dfs['Francisco_Bay'][2016].head()"
   ]
  },
  {
   "cell_type": "markdown",
   "id": "bd1ad613",
   "metadata": {},
   "source": [
    "#### Dataset comprises of 4214727 observations and 38 characteristics."
   ]
  },
  {
   "cell_type": "code",
   "execution_count": 10,
   "id": "20988273",
   "metadata": {},
   "outputs": [
    {
     "data": {
      "text/plain": [
       "(4214727, 38)"
      ]
     },
     "execution_count": 10,
     "metadata": {},
     "output_type": "execute_result"
    }
   ],
   "source": [
    "dfall.shape"
   ]
  },
  {
   "cell_type": "code",
   "execution_count": 11,
   "id": "a3faa6ef",
   "metadata": {},
   "outputs": [
    {
     "data": {
      "text/plain": [
       "Index(['id', 'observed_on_string', 'observed_on', 'time_observed_at',\n",
       "       'created_time_zone', 'created_at', 'updated_at', 'description',\n",
       "       'user_id', 'quality_grade', 'reviewed_by', 'faves_count',\n",
       "       'num_identification_agreements', 'num_identification_disagreements',\n",
       "       'identifications_most_agree', 'identifications_most_disagree',\n",
       "       'captive', 'place_guess', 'place_ids', 'longitude', 'latitude',\n",
       "       'positional_accuracy', 'geoprivacy', 'taxon_geoprivacy', 'obscured',\n",
       "       'species_guess', 'taxon_id', 'taxon_name', 'preferred_common_name',\n",
       "       'iconic_taxon_name', 'taxon_rank', 'taxon_parent_id', 'taxon_native',\n",
       "       'taxon_endemic', 'taxon_threatened', 'taxon_search_rank',\n",
       "       'taxon_observations', 'identifications'],\n",
       "      dtype='object')"
      ]
     },
     "execution_count": 11,
     "metadata": {},
     "output_type": "execute_result"
    }
   ],
   "source": [
    "dfall.columns"
   ]
  },
  {
   "cell_type": "code",
   "execution_count": 12,
   "id": "9b7168b3",
   "metadata": {},
   "outputs": [
    {
     "name": "stdout",
     "output_type": "stream",
     "text": [
      "<class 'pandas.core.frame.DataFrame'>\n",
      "Int64Index: 4214727 entries, 0 to 827047\n",
      "Data columns (total 38 columns):\n",
      " #   Column                            Dtype  \n",
      "---  ------                            -----  \n",
      " 0   id                                int64  \n",
      " 1   observed_on_string                object \n",
      " 2   observed_on                       object \n",
      " 3   time_observed_at                  object \n",
      " 4   created_time_zone                 object \n",
      " 5   created_at                        object \n",
      " 6   updated_at                        object \n",
      " 7   description                       object \n",
      " 8   user_id                           int64  \n",
      " 9   quality_grade                     object \n",
      " 10  reviewed_by                       object \n",
      " 11  faves_count                       int64  \n",
      " 12  num_identification_agreements     int64  \n",
      " 13  num_identification_disagreements  int64  \n",
      " 14  identifications_most_agree        bool   \n",
      " 15  identifications_most_disagree     bool   \n",
      " 16  captive                           bool   \n",
      " 17  place_guess                       object \n",
      " 18  place_ids                         object \n",
      " 19  longitude                         float64\n",
      " 20  latitude                          float64\n",
      " 21  positional_accuracy               float64\n",
      " 22  geoprivacy                        object \n",
      " 23  taxon_geoprivacy                  object \n",
      " 24  obscured                          bool   \n",
      " 25  species_guess                     object \n",
      " 26  taxon_id                          float64\n",
      " 27  taxon_name                        object \n",
      " 28  preferred_common_name             object \n",
      " 29  iconic_taxon_name                 object \n",
      " 30  taxon_rank                        object \n",
      " 31  taxon_parent_id                   float64\n",
      " 32  taxon_native                      object \n",
      " 33  taxon_endemic                     object \n",
      " 34  taxon_threatened                  object \n",
      " 35  taxon_search_rank                 float64\n",
      " 36  taxon_observations                float64\n",
      " 37  identifications                   object \n",
      "dtypes: bool(4), float64(7), int64(5), object(22)\n",
      "memory usage: 1.1+ GB\n"
     ]
    }
   ],
   "source": [
    "dfall.info()"
   ]
  },
  {
   "cell_type": "code",
   "execution_count": 17,
   "id": "53a84f87",
   "metadata": {},
   "outputs": [
    {
     "data": {
      "text/plain": [
       "id                                  False\n",
       "observed_on_string                  False\n",
       "observed_on                         False\n",
       "time_observed_at                     True\n",
       "created_time_zone                   False\n",
       "created_at                          False\n",
       "updated_at                          False\n",
       "description                          True\n",
       "user_id                             False\n",
       "quality_grade                       False\n",
       "reviewed_by                         False\n",
       "faves_count                         False\n",
       "num_identification_agreements       False\n",
       "num_identification_disagreements    False\n",
       "identifications_most_agree          False\n",
       "identifications_most_disagree       False\n",
       "captive                             False\n",
       "place_guess                          True\n",
       "place_ids                           False\n",
       "longitude                           False\n",
       "latitude                            False\n",
       "positional_accuracy                  True\n",
       "geoprivacy                           True\n",
       "taxon_geoprivacy                     True\n",
       "obscured                            False\n",
       "species_guess                        True\n",
       "taxon_id                             True\n",
       "taxon_name                           True\n",
       "preferred_common_name                True\n",
       "iconic_taxon_name                    True\n",
       "taxon_rank                           True\n",
       "taxon_parent_id                      True\n",
       "taxon_native                         True\n",
       "taxon_endemic                        True\n",
       "taxon_threatened                     True\n",
       "taxon_search_rank                    True\n",
       "taxon_observations                   True\n",
       "identifications                      True\n",
       "dtype: bool"
      ]
     },
     "execution_count": 17,
     "metadata": {},
     "output_type": "execute_result"
    }
   ],
   "source": [
    "dfall.isnull().any()"
   ]
  },
  {
   "cell_type": "code",
   "execution_count": 18,
   "id": "c1fd63cf",
   "metadata": {},
   "outputs": [
    {
     "data": {
      "text/html": [
       "<div>\n",
       "<style scoped>\n",
       "    .dataframe tbody tr th:only-of-type {\n",
       "        vertical-align: middle;\n",
       "    }\n",
       "\n",
       "    .dataframe tbody tr th {\n",
       "        vertical-align: top;\n",
       "    }\n",
       "\n",
       "    .dataframe thead th {\n",
       "        text-align: right;\n",
       "    }\n",
       "</style>\n",
       "<table border=\"1\" class=\"dataframe\">\n",
       "  <thead>\n",
       "    <tr style=\"text-align: right;\">\n",
       "      <th></th>\n",
       "      <th>id</th>\n",
       "      <th>user_id</th>\n",
       "      <th>faves_count</th>\n",
       "      <th>num_identification_agreements</th>\n",
       "      <th>num_identification_disagreements</th>\n",
       "      <th>longitude</th>\n",
       "      <th>latitude</th>\n",
       "      <th>positional_accuracy</th>\n",
       "      <th>taxon_id</th>\n",
       "      <th>taxon_parent_id</th>\n",
       "      <th>taxon_search_rank</th>\n",
       "      <th>taxon_observations</th>\n",
       "    </tr>\n",
       "  </thead>\n",
       "  <tbody>\n",
       "    <tr>\n",
       "      <th>count</th>\n",
       "      <td>4.214727e+06</td>\n",
       "      <td>4.214727e+06</td>\n",
       "      <td>4.214727e+06</td>\n",
       "      <td>4.214727e+06</td>\n",
       "      <td>4.214727e+06</td>\n",
       "      <td>4.214727e+06</td>\n",
       "      <td>4.214727e+06</td>\n",
       "      <td>3.418303e+06</td>\n",
       "      <td>4.182319e+06</td>\n",
       "      <td>4.179139e+06</td>\n",
       "      <td>4.182319e+06</td>\n",
       "      <td>4.182319e+06</td>\n",
       "    </tr>\n",
       "    <tr>\n",
       "      <th>mean</th>\n",
       "      <td>8.393991e+07</td>\n",
       "      <td>1.630074e+06</td>\n",
       "      <td>1.417340e-02</td>\n",
       "      <td>1.058821e+00</td>\n",
       "      <td>1.078575e-02</td>\n",
       "      <td>-1.223343e+02</td>\n",
       "      <td>3.778301e+01</td>\n",
       "      <td>1.853485e+03</td>\n",
       "      <td>1.360414e+05</td>\n",
       "      <td>3.038949e+05</td>\n",
       "      <td>1.582589e+06</td>\n",
       "      <td>1.582589e+06</td>\n",
       "    </tr>\n",
       "    <tr>\n",
       "      <th>std</th>\n",
       "      <td>5.680766e+07</td>\n",
       "      <td>1.900734e+06</td>\n",
       "      <td>1.634878e-01</td>\n",
       "      <td>9.276201e-01</td>\n",
       "      <td>1.062482e-01</td>\n",
       "      <td>3.450884e-01</td>\n",
       "      <td>3.950019e-01</td>\n",
       "      <td>1.162812e+06</td>\n",
       "      <td>2.411870e+05</td>\n",
       "      <td>4.424825e+05</td>\n",
       "      <td>1.024968e+07</td>\n",
       "      <td>1.024968e+07</td>\n",
       "    </tr>\n",
       "    <tr>\n",
       "      <th>min</th>\n",
       "      <td>2.006900e+04</td>\n",
       "      <td>1.000000e+00</td>\n",
       "      <td>0.000000e+00</td>\n",
       "      <td>-1.000000e+00</td>\n",
       "      <td>0.000000e+00</td>\n",
       "      <td>-1.235998e+02</td>\n",
       "      <td>3.680372e+01</td>\n",
       "      <td>0.000000e+00</td>\n",
       "      <td>1.000000e+00</td>\n",
       "      <td>1.000000e+00</td>\n",
       "      <td>0.000000e+00</td>\n",
       "      <td>0.000000e+00</td>\n",
       "    </tr>\n",
       "    <tr>\n",
       "      <th>25%</th>\n",
       "      <td>3.285735e+07</td>\n",
       "      <td>9.284600e+04</td>\n",
       "      <td>0.000000e+00</td>\n",
       "      <td>0.000000e+00</td>\n",
       "      <td>0.000000e+00</td>\n",
       "      <td>-1.225163e+02</td>\n",
       "      <td>3.744806e+01</td>\n",
       "      <td>5.000000e+00</td>\n",
       "      <td>4.775100e+04</td>\n",
       "      <td>4.768500e+04</td>\n",
       "      <td>5.924000e+03</td>\n",
       "      <td>5.924000e+03</td>\n",
       "    </tr>\n",
       "    <tr>\n",
       "      <th>50%</th>\n",
       "      <td>7.597378e+07</td>\n",
       "      <td>7.986330e+05</td>\n",
       "      <td>0.000000e+00</td>\n",
       "      <td>1.000000e+00</td>\n",
       "      <td>0.000000e+00</td>\n",
       "      <td>-1.223214e+02</td>\n",
       "      <td>3.779179e+01</td>\n",
       "      <td>1.300000e+01</td>\n",
       "      <td>5.343500e+04</td>\n",
       "      <td>5.340800e+04</td>\n",
       "      <td>1.888200e+04</td>\n",
       "      <td>1.888200e+04</td>\n",
       "    </tr>\n",
       "    <tr>\n",
       "      <th>75%</th>\n",
       "      <td>1.326792e+08</td>\n",
       "      <td>2.596349e+06</td>\n",
       "      <td>0.000000e+00</td>\n",
       "      <td>2.000000e+00</td>\n",
       "      <td>0.000000e+00</td>\n",
       "      <td>-1.220994e+02</td>\n",
       "      <td>3.799476e+01</td>\n",
       "      <td>6.500000e+01</td>\n",
       "      <td>8.166200e+04</td>\n",
       "      <td>4.760880e+05</td>\n",
       "      <td>7.327400e+04</td>\n",
       "      <td>7.327400e+04</td>\n",
       "    </tr>\n",
       "    <tr>\n",
       "      <th>max</th>\n",
       "      <td>1.949811e+08</td>\n",
       "      <td>7.694117e+06</td>\n",
       "      <td>9.300000e+01</td>\n",
       "      <td>2.900000e+01</td>\n",
       "      <td>7.000000e+00</td>\n",
       "      <td>-1.212006e+02</td>\n",
       "      <td>3.899956e+01</td>\n",
       "      <td>2.147484e+09</td>\n",
       "      <td>1.520980e+06</td>\n",
       "      <td>1.520989e+06</td>\n",
       "      <td>1.832068e+08</td>\n",
       "      <td>1.832068e+08</td>\n",
       "    </tr>\n",
       "  </tbody>\n",
       "</table>\n",
       "</div>"
      ],
      "text/plain": [
       "                 id       user_id   faves_count  \\\n",
       "count  4.214727e+06  4.214727e+06  4.214727e+06   \n",
       "mean   8.393991e+07  1.630074e+06  1.417340e-02   \n",
       "std    5.680766e+07  1.900734e+06  1.634878e-01   \n",
       "min    2.006900e+04  1.000000e+00  0.000000e+00   \n",
       "25%    3.285735e+07  9.284600e+04  0.000000e+00   \n",
       "50%    7.597378e+07  7.986330e+05  0.000000e+00   \n",
       "75%    1.326792e+08  2.596349e+06  0.000000e+00   \n",
       "max    1.949811e+08  7.694117e+06  9.300000e+01   \n",
       "\n",
       "       num_identification_agreements  num_identification_disagreements  \\\n",
       "count                   4.214727e+06                      4.214727e+06   \n",
       "mean                    1.058821e+00                      1.078575e-02   \n",
       "std                     9.276201e-01                      1.062482e-01   \n",
       "min                    -1.000000e+00                      0.000000e+00   \n",
       "25%                     0.000000e+00                      0.000000e+00   \n",
       "50%                     1.000000e+00                      0.000000e+00   \n",
       "75%                     2.000000e+00                      0.000000e+00   \n",
       "max                     2.900000e+01                      7.000000e+00   \n",
       "\n",
       "          longitude      latitude  positional_accuracy      taxon_id  \\\n",
       "count  4.214727e+06  4.214727e+06         3.418303e+06  4.182319e+06   \n",
       "mean  -1.223343e+02  3.778301e+01         1.853485e+03  1.360414e+05   \n",
       "std    3.450884e-01  3.950019e-01         1.162812e+06  2.411870e+05   \n",
       "min   -1.235998e+02  3.680372e+01         0.000000e+00  1.000000e+00   \n",
       "25%   -1.225163e+02  3.744806e+01         5.000000e+00  4.775100e+04   \n",
       "50%   -1.223214e+02  3.779179e+01         1.300000e+01  5.343500e+04   \n",
       "75%   -1.220994e+02  3.799476e+01         6.500000e+01  8.166200e+04   \n",
       "max   -1.212006e+02  3.899956e+01         2.147484e+09  1.520980e+06   \n",
       "\n",
       "       taxon_parent_id  taxon_search_rank  taxon_observations  \n",
       "count     4.179139e+06       4.182319e+06        4.182319e+06  \n",
       "mean      3.038949e+05       1.582589e+06        1.582589e+06  \n",
       "std       4.424825e+05       1.024968e+07        1.024968e+07  \n",
       "min       1.000000e+00       0.000000e+00        0.000000e+00  \n",
       "25%       4.768500e+04       5.924000e+03        5.924000e+03  \n",
       "50%       5.340800e+04       1.888200e+04        1.888200e+04  \n",
       "75%       4.760880e+05       7.327400e+04        7.327400e+04  \n",
       "max       1.520989e+06       1.832068e+08        1.832068e+08  "
      ]
     },
     "execution_count": 18,
     "metadata": {},
     "output_type": "execute_result"
    }
   ],
   "source": [
    "dfall.describe()"
   ]
  },
  {
   "cell_type": "code",
   "execution_count": 24,
   "id": "cace20d6",
   "metadata": {},
   "outputs": [
    {
     "name": "stdout",
     "output_type": "stream",
     "text": [
      "Total observation in 2016: 140620\n",
      "Total observation in 2017: 216210\n",
      "Total observation in 2018: 349490\n",
      "Total observation in 2019: 494866\n",
      "Total observation in 2020: 632327\n",
      "Total observation in 2021: 764634\n",
      "Total observation in 2022: 789532\n",
      "Total observation in 2023: 827048\n"
     ]
    }
   ],
   "source": [
    "## Total observation made in each year\n",
    "\n",
    "sf_2016 = dfs['Francisco_Bay'][2016]\n",
    "print('Total observation in 2016:',sf_2016.shape[0])\n",
    "\n",
    "sf_2017 = dfs['Francisco_Bay'][2017]\n",
    "print('Total observation in 2017:',sf_2017.shape[0])\n",
    "\n",
    "sf_2018 = dfs['Francisco_Bay'][2018]\n",
    "print('Total observation in 2018:',sf_2018.shape[0])\n",
    "\n",
    "sf_2019 = dfs['Francisco_Bay'][2019]\n",
    "print('Total observation in 2019:',sf_2019.shape[0])\n",
    "\n",
    "sf_2020 = dfs['Francisco_Bay'][2020]\n",
    "print('Total observation in 2020:',sf_2020.shape[0])\n",
    "\n",
    "sf_2021 = dfs['Francisco_Bay'][2021]\n",
    "print('Total observation in 2021:',sf_2021.shape[0])\n",
    "\n",
    "sf_2022 = dfs['Francisco_Bay'][2022]\n",
    "print('Total observation in 2022:',sf_2022.shape[0])\n",
    "\n",
    "sf_2023 = dfs['Francisco_Bay'][2023]\n",
    "print('Total observation in 2023:',sf_2023.shape[0])"
   ]
  },
  {
   "cell_type": "code",
   "execution_count": 21,
   "id": "b0352afe",
   "metadata": {},
   "outputs": [
    {
     "data": {
      "text/plain": [
       "116656"
      ]
     },
     "execution_count": 21,
     "metadata": {},
     "output_type": "execute_result"
    }
   ],
   "source": [
    "unique_users = len(dfall['user_id'].value_counts())\n",
    "unique_users"
   ]
  },
  {
   "cell_type": "code",
   "execution_count": 20,
   "id": "129e331a",
   "metadata": {},
   "outputs": [
    {
     "data": {
      "text/plain": [
       "116656"
      ]
     },
     "execution_count": 20,
     "metadata": {},
     "output_type": "execute_result"
    }
   ],
   "source": [
    "len(dfall['user_id'].value_counts())"
   ]
  },
  {
   "cell_type": "markdown",
   "id": "f16701d2",
   "metadata": {},
   "source": [
    "## To check missing values"
   ]
  },
  {
   "cell_type": "code",
   "execution_count": 26,
   "id": "d034c3c6",
   "metadata": {},
   "outputs": [],
   "source": [
    "def missing_val(df):\n",
    "\n",
    "    missing_val = sns.heatmap(df.isnull(),cbar=False,yticklabels=False,cmap = 'viridis')\n",
    "    \n",
    "    return missing_val"
   ]
  },
  {
   "cell_type": "code",
   "execution_count": 27,
   "id": "09f0c513",
   "metadata": {},
   "outputs": [
    {
     "data": {
      "image/png": "[encoded data removed]",
      "text/plain": [
       "<Figure size 640x480 with 1 Axes>"
      ]
     },
     "metadata": {},
     "output_type": "display_data"
    }
   ],
   "source": [
    "datasets = [sf_2016, sf_2017, sf_2018, sf_2019, sf_2020,sf_2021,sf_2022,sf_2023]\n",
    "years = [2016, 2017, 2018, 2019, 2020,2021,2022,2023]\n",
    "\n",
    "missing_values = {}\n",
    "\n",
    "for i, df in enumerate(datasets):\n",
    "    year = years[i]\n",
    "    missing_values[year] = missing_val(df)"
   ]
  },
  {
   "cell_type": "code",
   "execution_count": 28,
   "id": "599273c6",
   "metadata": {},
   "outputs": [
    {
     "data": {
      "image/png": "[encoded data removed]",
      "text/plain": [
       "<Figure size 500x350 with 1 Axes>"
      ]
     },
     "metadata": {},
     "output_type": "display_data"
    }
   ],
   "source": [
    "#bar plot to observation per year\n",
    "\n",
    "fig = plt.figure(figsize=(5, 3.5))\n",
    "\n",
    "for city, dfyears in dfs.items():\n",
    "    x = []\n",
    "    y = []\n",
    "    for year, df in dfyears.items():\n",
    "        x.append(year)\n",
    "        y.append(len(df))\n",
    "    #plt.plot(x, y, '-o',label=city,color= 'green', alpha=0.7)\n",
    "    plt.bar(x, y,label=city,color= 'green', alpha=0.7)\n",
    "\n",
    "plt.xlabel(\"year\")\n",
    "plt.ylabel(\"observations\")\n",
    "plt.title(\"Observations per year\")\n",
    "plt.legend(frameon=False, fontsize=7, loc='upper left')\n",
    "plt.ylim(ymin=0)\n",
    "plt.show()"
   ]
  },
  {
   "cell_type": "code",
   "execution_count": 32,
   "id": "c273a3a7",
   "metadata": {},
   "outputs": [
    {
     "data": {
      "image/png": "[encoded data removed]",
      "text/plain": [
       "<Figure size 500x350 with 1 Axes>"
      ]
     },
     "metadata": {},
     "output_type": "display_data"
    }
   ],
   "source": [
    "# Data\n",
    "years = [2016, 2017, 2018, 2019, 2020, 2021, 2022, 2023]\n",
    "observations = [sf_2016.shape[0], sf_2017.shape[0], sf_2018.shape[0],sf_2019.shape[0], sf_2020.shape[0],sf_2021.shape[0],sf_2022.shape[0],sf_2023.shape[0]]\n",
    "\n",
    "# Plotting\n",
    "plt.figure(figsize=(5, 3.5))\n",
    "plt.plot(years, observations, marker='o', linestyle='-')\n",
    "plt.title('Total Observations in San Francisco Bay Area (2016-2023)')\n",
    "plt.xlabel('Year')\n",
    "plt.ylabel('Total Observations')\n",
    "#plt.grid(True)\n",
    "plt.show()\n"
   ]
  },
  {
   "cell_type": "code",
   "execution_count": 29,
   "id": "8c2455b0",
   "metadata": {},
   "outputs": [],
   "source": [
    "# unique users for each year \n",
    "def unique_users(df):\n",
    "\n",
    "    #total_users = len(df)\n",
    "    user_unique = len(df['user_id'].value_counts())\n",
    "    \n",
    "    return user_unique"
   ]
  },
  {
   "cell_type": "code",
   "execution_count": 30,
   "id": "ff5d81a4",
   "metadata": {},
   "outputs": [
    {
     "name": "stdout",
     "output_type": "stream",
     "text": [
      "Total number of participants in San Francisco 2016: 5702\n",
      "Total number of participants in San Francisco 2017: 9061\n",
      "Total number of participants in San Francisco 2018: 16002\n",
      "Total number of participants in San Francisco 2019: 24362\n",
      "Total number of participants in San Francisco 2020: 29781\n",
      "Total number of participants in San Francisco 2021: 34270\n",
      "Total number of participants in San Francisco 2022: 34619\n",
      "Total number of participants in San Francisco 2023: 32843\n"
     ]
    }
   ],
   "source": [
    "datasets = [sf_2016, sf_2017, sf_2018, sf_2019, sf_2020,sf_2021,sf_2022,sf_2023]\n",
    "years = [2016, 2017, 2018, 2019, 2020,2021,2022,2023]\n",
    "\n",
    "unique_users_per_year = {}\n",
    "\n",
    "for i, df in enumerate(datasets):\n",
    "    year = years[i]\n",
    "    unique_users_per_year[year] = unique_users(df)\n",
    "    print(f'Total number of participants in San Francisco {year}:', unique_users_per_year[year])\n"
   ]
  },
  {
   "cell_type": "code",
   "execution_count": 31,
   "id": "e8a07af3",
   "metadata": {},
   "outputs": [
    {
     "data": {
      "image/png": "[encoded data removed]",
      "text/plain": [
       "<Figure size 500x350 with 1 Axes>"
      ]
     },
     "metadata": {},
     "output_type": "display_data"
    }
   ],
   "source": [
    "# Plotting\n",
    "\"\"\"\n",
    "unique_users_per_year.keys(): This retrieves the keys from the dictionary \n",
    "'unique_users_per_year.values(): This retrieves the values associated with the keys in the dictionary '\n",
    "\"\"\"\n",
    "plt.figure(figsize=(5, 3.5))\n",
    "plt.plot(unique_users_per_year.keys(), unique_users_per_year.values(),marker='o', color= 'green', alpha=0.7)\n",
    "plt.xlabel('Year')\n",
    "plt.ylabel('Unique User Count')\n",
    "plt.title('Unique Users per Year')\n",
    "plt.xticks(years)\n",
    "#plt.grid(axis='y')\n",
    "plt.show()"
   ]
  },
  {
   "cell_type": "code",
   "execution_count": null,
   "id": "24459b95",
   "metadata": {},
   "outputs": [],
   "source": []
  }
 ],
 "metadata": {
  "kernelspec": {
   "display_name": "Python 3 (ipykernel)",
   "language": "python",
   "name": "python3"
  },
  "language_info": {
   "codemirror_mode": {
    "name": "ipython",
    "version": 3
   },
   "file_extension": ".py",
   "mimetype": "text/x-python",
   "name": "python",
   "nbconvert_exporter": "python",
   "pygments_lexer": "ipython3",
   "version": "3.10.9"
  }
 },
 "nbformat": 4,
 "nbformat_minor": 5
}
